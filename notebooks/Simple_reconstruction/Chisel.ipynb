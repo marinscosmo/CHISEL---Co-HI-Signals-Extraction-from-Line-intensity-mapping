{
 "cells": [
  {
   "cell_type": "markdown",
   "metadata": {},
   "source": [
    "# CHISEL - Co-HI Signals: Extraction from Line-intensity mapping"
   ]
  },
  {
   "cell_type": "code",
   "execution_count": 1,
   "metadata": {},
   "outputs": [],
   "source": [
    "import os,sys#,#progressbar\n",
    "import numpy as np\n",
    "import pandas as pd\n",
    "import time\n",
    "from IPython.display import clear_output\n",
    "sys.path.insert(1, '/home/amarins/ComponentSeparation/gmca/scripts')\n",
    "import Extension4BINGO as cs\n",
    "import copy"
   ]
  },
  {
   "cell_type": "code",
   "execution_count": 2,
   "metadata": {},
   "outputs": [],
   "source": [
    "#######################################################\n",
    "################   GENERAL INFORMATIONS   #############\n",
    "#######################################################\n",
    "method           = \"ICA\"\n",
    "wtransform       = [\"identity\"]\n",
    "maps_wout_mean   = True\n",
    "apply_mask       = False\n",
    "add_noise        = False\n",
    "\n",
    "#######################################################\n",
    "################   WAVELETS PARAMETERS   ##############\n",
    "#######################################################\n",
    "#####\n",
    "# The main aim is to have:\n",
    "# Starlet, Axisymmetric, spin-Directional, Wavelets Standard from PyWavelets, Curvelets, Counturlets, Shearlets, Ridgelets and so on\n",
    "#####\n",
    "J     = 1  #number of scales\n",
    "use_c = True  # if you will use wavelet scale in the analysis\n",
    "\n",
    "##############\n",
    "# S2LET code\n",
    "# If you to use wtransforms by S2Let code, please, fill in the variables below:\n",
    "L        = -1 #If you write L<0, it will use L=3*nside\n",
    "J_min    = 1\n",
    "B        = 5     \n",
    "N        = 3  # Number of directions (This is for Directional only)\n",
    "spin     = 0  # set to 0 for temperature. if non-zero, plotting routines must be changed! (This is for Directional only)\n",
    "upsample = 0  # 1 means all scales at full resolution L # 0 means multiresolution wavelet transform (This is for Directional only)\n",
    "# In the S2LET code, J scales is defined by code and not by J above.\n",
    "\n",
    "##############\n",
    "# PyWavelets\n",
    "Jpwt     = 1 #number of scales\n",
    "pywttype = \"haar\" \n",
    "\n",
    "##############\n",
    "# Needlets\n",
    "needlet   = \"mexican\" # either mexican(=gaussian), or standard\n",
    "Bneed     = 1.15            # filter is defined by function b(l/B**j), where j=freq\n",
    "p         = 0.9             # this value is only for mexican needlet\n",
    "fneed     = [15,24,30,34]   # number of freqs will be the number of scales (wavelet maps). Center of i-band will be approached given by l_center_i = B**freq_i (p=0)\n",
    "lmax_need = -1\n",
    "\n",
    "##############\n",
    "# Curvelets\n",
    "##############\n",
    "# Counturlets\n",
    "##############\n",
    "# Shearlets\n",
    "##############\n",
    "# Ridgelets\n",
    "\n",
    "#######################################################\n",
    "#### COMPONENT SEPARATION #############################\n",
    "#######################################################\n",
    "n_s = 1  #number of sources to be estimated\n",
    "\n",
    "######## FastICA PARAMETERS \n",
    "whiten = True  ######## Maintain True\n",
    "fun = 'logcosh' #exp,logcosh or\n",
    "max_iter = 20\n",
    "tol = 0.01\n",
    "\n",
    "######## GMCA PARAMETERS   \n",
    "mints = 0.05 # min threshold (what is sparse compared to noise?)\n",
    "nmax  = 100 # number of iterations (usually 100 is safe)\n",
    "L0    = 0   # switch between L0 norm (1) or L1 norm (0)\n",
    "\n",
    "#######################################################\n",
    "AInit     = None\n",
    "ColFixed  = None\n",
    "whitening = False\n",
    "epsi      = 1e-3\n",
    "verbose   = False\n",
    "#GMCAExtension\n",
    "div          = 1 #  J+1  #J/div will should be even number\n",
    "without_covx = True # if your mixmatrix estimated will use covariance matrix of the observer data with ponderation\n",
    "# 0 <= noise factor <= 1\n",
    "#noise_factor = 1  <-------------- Preciso que os mapas sejam todos separados\n",
    "\n",
    "#######################################################\n",
    "################   PATHS PARAMETERS   #################\n",
    "#######################################################\n",
    "#path outputs\n",
    "pathout       = \"/home/amarins/ComponentSeparation/gmca/outputs/simple_real\" #Put here your path to the output cls\n",
    "cl_type_save  = \"reconstruction\" #You should choice between reconstruction or residuals cls values\n",
    "savefits      = True # or False\n",
    "#######################################################\n",
    "################   NAME FILES PARAMETERS   ############\n",
    "#######################################################\n",
    "# Name of FITS files inside of the pathmaps\n",
    "\n",
    "#Directory names\n",
    "dir_observed  = \"/media/new-drive/CS_Cubes/White_Noise/input_wn\"\n",
    "dir_mask      = \"/media/new-drive/amarins/maps/mask\"\n",
    "dir_prior     = \"/media/new-drive/CS_Cubes/White_Noise/prior_wn\"\n",
    "dir_noise     = \"/media/new-drive/CS_Cubes/Only_White_Noise_Masked\"\n",
    "dir_pure      = \"/media/new-drive/CS_Cubes/No_Noise/prior_nn\"\n",
    "\n",
    "name_observed = \"Cube_Input_WN_L10_M.fits\"\n",
    "name_mask     = \"Mask_Bin.fits\"\n",
    "name_prior    = \"Cube_Prior_WN_L10M.fits\"\n",
    "name_noise    = \"bingo_WN_256_mK_CubeA_10Masked.fits\"\n",
    "name_pure     = \"Cube_Prior_L10M.fits\"\n",
    "\n",
    "seed_used     = \"L10\""
   ]
  },
  {
   "cell_type": "code",
   "execution_count": 3,
   "metadata": {},
   "outputs": [],
   "source": [
    "params_maps = pd.Series({\"without_mean\":maps_wout_mean, \"apply_mask\":apply_mask, \"add_noise\":add_noise, \"cl_type_save\":cl_type_save,\"iseed\":seed_used})\n",
    "\n",
    "params_CS   = pd.Series({\"method\":method,\n",
    "                         \"A_ini\":AInit, \"ColFixed\":ColFixed, \"whitening\":whitening, \"epsi\":epsi, \n",
    "                         \"verbose\":verbose, \"ns\":n_s, \"mints\":mints,\"nmax\":nmax, \"L0\":L0, \"division\":div, \n",
    "                         \"without_covx\":without_covx,\"whiten\":whiten, \"fun\":fun, \"max_iter\":max_iter, \"tol\":tol})\n",
    "\n",
    "params_WT   = pd.Series({\"wtransform\":np.asarray(wtransform), \"use_c\":use_c, \"J\":J, \n",
    "                         \"L\":L, \"Jmin\":J_min, \"B\": B, \"N\":N, \"spin\":spin, \"upsample\":upsample,\n",
    "                         \"Jpwt\":Jpwt, \"pywttype\":pywttype.lower(),\n",
    "                         \"needlet\":needlet, \"Bneed\":Bneed, \"p\":p, \"fneed\": fneed, \"lmax_need\":lmax_need})\n",
    "\n",
    "params_path = pd.Series({\"pathout\":pathout, \n",
    "                          \"dir_observed\":dir_observed,  \"dir_prior\":dir_prior,   \"dir_noise\":dir_noise,   \"dir_pure\":dir_pure,  \"dir_mask\":dir_mask, \n",
    "                         \"name_observed\":name_observed,\"name_prior\":name_prior, \"name_noise\":name_noise, \"name_pure\":name_pure, \"name_mask\":name_mask})"
   ]
  },
  {
   "cell_type": "code",
   "execution_count": 4,
   "metadata": {},
   "outputs": [
    {
     "name": "stdout",
     "output_type": "stream",
     "text": [
      "Component Analysis: Starting ICA method ...\n",
      "Building reconstructed maps...\n",
      "Building residuals maps...\n",
      "Finished in: 0.27 min\n"
     ]
    }
   ],
   "source": [
    "params_maps[\"getdata\"] = \"observed\"\n",
    "subdirs = cs.checkdir(params_path.pathout, subdirs=[\"21cm\",\"foregrounds\",\"mixmatrix\"],restart=True)\n",
    "\n",
    "params_cs, params_wt = cs.load(params_CS,params_WT)\n",
    "X = cs.getmaps(           params_maps, params_path)\n",
    "X = cs.adaptation_maps(X, params_maps, params_path)\n",
    "X = cs.maps2CSmaps(    X, params_wt  , params_cs)\n",
    "cs.saveouts(mrec=X, params_path=params_path, params_maps=params_maps, params_WT=params_wt, params_CS=params_cs, subdirs=subdirs)"
   ]
  },
  {
   "cell_type": "code",
   "execution_count": 37,
   "metadata": {},
   "outputs": [
    {
     "data": {
      "text/plain": [
       "dict_keys(['21cm', 'foregrounds'])"
      ]
     },
     "execution_count": 37,
     "metadata": {},
     "output_type": "execute_result"
    }
   ],
   "source": [
    "X[\"residual\"].keys()"
   ]
  },
  {
   "cell_type": "code",
   "execution_count": 33,
   "metadata": {},
   "outputs": [],
   "source": [
    "import healpy as hp\n",
    "import warnings\n",
    "warnings.filterwarnings(\"ignore\")"
   ]
  },
  {
   "cell_type": "code",
   "execution_count": 29,
   "metadata": {},
   "outputs": [
    {
     "name": "stdout",
     "output_type": "stream",
     "text": [
      "Banda: 14\n"
     ]
    },
    {
     "data": {
      "image/png": "[encoded data removed]",
      "text/plain": [
       "<Figure size 612x388.8 with 2 Axes>"
      ]
     },
     "metadata": {
      "needs_background": "light"
     },
     "output_type": "display_data"
    }
   ],
   "source": [
    "nbands = X['reconstruction']['21cm'].shape[0]\n",
    "iband  = np.random.randint(nbands)\n",
    "imap   = X['reconstruction']['21cm'][iband,:]\n",
    "print(\"Banda: {}\".format(iband))\n",
    "hp.mollview(np.log10(imap), cmap=\"inferno\",title=\"21cm\");"
   ]
  },
  {
   "cell_type": "code",
   "execution_count": null,
   "metadata": {},
   "outputs": [],
   "source": []
  }
 ],
 "metadata": {
  "kernelspec": {
   "display_name": "Python 3",
   "language": "python",
   "name": "python3"
  },
  "language_info": {
   "codemirror_mode": {
    "name": "ipython",
    "version": 3
   },
   "file_extension": ".py",
   "mimetype": "text/x-python",
   "name": "python",
   "nbconvert_exporter": "python",
   "pygments_lexer": "ipython3",
   "version": "3.6.9"
  }
 },
 "nbformat": 4,
 "nbformat_minor": 5
}
